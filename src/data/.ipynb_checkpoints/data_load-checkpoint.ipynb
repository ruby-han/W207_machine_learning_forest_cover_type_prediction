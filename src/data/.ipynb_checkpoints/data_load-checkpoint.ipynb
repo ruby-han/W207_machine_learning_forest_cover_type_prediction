{
 "cells": [
  {
   "cell_type": "markdown",
   "metadata": {},
   "source": [
    "# Data Load"
   ]
  },
  {
   "cell_type": "markdown",
   "metadata": {},
   "source": [
    "### Install Packages, load data"
   ]
  },
  {
   "cell_type": "code",
   "execution_count": null,
   "metadata": {
    "scrolled": true
   },
   "outputs": [],
   "source": [
    "# Install Kaggle from PIP\n",
    "! pip install kaggle\n",
    "\n",
    "# Download the data via API\n",
    "! kaggle competitions download -c forest-cover-type-prediction"
   ]
  },
  {
   "cell_type": "code",
   "execution_count": 17,
   "metadata": {},
   "outputs": [],
   "source": [
    "# Import Packages\n",
    "import kaggle\n",
    "import numpy as np\n",
    "import pandas as pd\n",
    "\n",
    "np.random.seed(0)"
   ]
  },
  {
   "cell_type": "code",
   "execution_count": 50,
   "metadata": {},
   "outputs": [],
   "source": [
    "# Import Train and Test data from Kaggle\n",
    "train_kaggle = pd.read_csv('../../data/raw/forest-cover-type-prediction/train.csv')\n",
    "test_kaggle = pd.read_csv('../../data/raw/forest-cover-type-prediction/test.csv')\n",
    "\n",
    "# Shuffle the data\n",
    "# shuffle = np.random.permutation(np.arange(train_kaggle.shape[0]))\n",
    "train_kaggle = train_kaggle.sample(frac = 1)\n",
    "\n",
    "# Separate in to train/dev sets\n",
    "train_pct = .5 # .8 for 80/20 split\n",
    "split = int(train_kaggle.shape[0] * train_pct)\n",
    "\n",
    "train_data = train_kaggle.iloc[:split,:-1].set_index('Id')\n",
    "train_labels = train_kaggle.iloc[:split,].loc[:, ['Id', 'Cover_Type']].set_index('Id')\n",
    "dev_data = train_kaggle.iloc[split:,:-1].loc[:,].set_index('Id')\n",
    "dev_labels = train_kaggle.iloc[split:,].loc[:, ['Id', 'Cover_Type']].set_index('Id')"
   ]
  },
  {
   "cell_type": "code",
   "execution_count": 61,
   "metadata": {},
   "outputs": [
    {
     "name": "stdout",
     "output_type": "stream",
     "text": [
      "(7560, 54)\n",
      "(7560, 54)\n",
      "(7560, 1)\n",
      "(7560, 1)\n"
     ]
    }
   ],
   "source": [
    "print(train_data.shape)\n",
    "print(dev_data.shape)\n",
    "print(train_labels.shape)\n",
    "print(dev_labels.shape)"
   ]
  },
  {
   "cell_type": "code",
   "execution_count": 60,
   "metadata": {},
   "outputs": [],
   "source": [
    "# Write data to dataframes\n",
    "train_data.to_csv('../../data/processed/train_data.csv')\n",
    "train_labels.to_csv('../../data/processed/train_labels.csv')\n",
    "dev_data.to_csv('../../data/processed/dev_data.csv')\n",
    "dev_labels.to_csv('../../data/processed/dev_labels.csv')"
   ]
  }
 ],
 "metadata": {
  "kernelspec": {
   "display_name": "Python 3",
   "language": "python",
   "name": "python3"
  },
  "language_info": {
   "codemirror_mode": {
    "name": "ipython",
    "version": 3
   },
   "file_extension": ".py",
   "mimetype": "text/x-python",
   "name": "python",
   "nbconvert_exporter": "python",
   "pygments_lexer": "ipython3",
   "version": "3.8.3"
  }
 },
 "nbformat": 4,
 "nbformat_minor": 4
}
