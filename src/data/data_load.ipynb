{
 "cells": [
  {
   "cell_type": "markdown",
   "metadata": {},
   "source": [
    "# Data Load"
   ]
  },
  {
   "cell_type": "markdown",
   "metadata": {},
   "source": [
    "### Install Packages, load data"
   ]
  },
  {
   "cell_type": "code",
   "execution_count": 34,
   "metadata": {
    "scrolled": true
   },
   "outputs": [
    {
     "name": "stdout",
     "output_type": "stream",
     "text": [
      "Requirement already satisfied: kaggle in /Users/brennagiacchino/opt/anaconda3/lib/python3.8/site-packages (1.5.12)\n",
      "Requirement already satisfied: python-dateutil in /Users/brennagiacchino/opt/anaconda3/lib/python3.8/site-packages (from kaggle) (2.8.1)\n",
      "Requirement already satisfied: urllib3 in /Users/brennagiacchino/opt/anaconda3/lib/python3.8/site-packages (from kaggle) (1.25.10)\n",
      "Requirement already satisfied: six>=1.10 in /Users/brennagiacchino/opt/anaconda3/lib/python3.8/site-packages (from kaggle) (1.15.0)\n",
      "Requirement already satisfied: certifi in /Users/brennagiacchino/opt/anaconda3/lib/python3.8/site-packages (from kaggle) (2021.5.30)\n",
      "Requirement already satisfied: tqdm in /Users/brennagiacchino/opt/anaconda3/lib/python3.8/site-packages (from kaggle) (4.49.0)\n",
      "Requirement already satisfied: python-slugify in /Users/brennagiacchino/.local/lib/python3.8/site-packages (from kaggle) (5.0.2)\n",
      "Requirement already satisfied: requests in /Users/brennagiacchino/opt/anaconda3/lib/python3.8/site-packages (from kaggle) (2.24.0)\n",
      "Requirement already satisfied: text-unidecode>=1.3 in /Users/brennagiacchino/.local/lib/python3.8/site-packages (from python-slugify->kaggle) (1.3)\n",
      "Requirement already satisfied: chardet<4,>=3.0.2 in /Users/brennagiacchino/opt/anaconda3/lib/python3.8/site-packages (from requests->kaggle) (3.0.4)\n",
      "Requirement already satisfied: idna<3,>=2.5 in /Users/brennagiacchino/opt/anaconda3/lib/python3.8/site-packages (from requests->kaggle) (2.10)\n",
      "Warning: Your Kaggle API key is readable by other users on this system! To fix this, you can run 'chmod 600 /Users/brennagiacchino/.kaggle/kaggle.json'\n",
      "forest-cover-type-prediction.zip: Skipping, found more recently modified local copy (use --force to force download)\n"
     ]
    }
   ],
   "source": [
    "# Install Kaggle from PIP\n",
    "! pip install kaggle\n",
    "\n",
    "# Download the data via API\n",
    "! kaggle competitions download -c forest-cover-type-prediction"
   ]
  },
  {
   "cell_type": "code",
   "execution_count": 16,
   "metadata": {},
   "outputs": [],
   "source": [
    "# Import Packages\n",
    "import kaggle\n",
    "import numpy as np\n",
    "import pandas as pd\n",
    "\n",
    "np.random.seed(0)"
   ]
  },
  {
   "cell_type": "code",
   "execution_count": 17,
   "metadata": {},
   "outputs": [],
   "source": [
    "# Import Train and Test data from Kaggle\n",
    "train_kaggle = pd.read_csv('../../data/raw/forest-cover-type-prediction/train.csv')\n",
    "test_kaggle = pd.read_csv('../../data/raw/forest-cover-type-prediction/test.csv')\n",
    "\n",
    "# Shuffle the data\n",
    "# shuffle = np.random.permutation(np.arange(train_kaggle.shape[0]))\n",
    "train_kaggle = train_kaggle.sample(frac = 1)\n",
    "\n",
    "# Separate in to train/dev sets\n",
    "train_pct = .8 \n",
    "split = int(train_kaggle.shape[0] * train_pct)\n",
    "\n",
    "train_data = train_kaggle.iloc[:split,:-1].set_index('Id')\n",
    "train_labels = train_kaggle.iloc[:split,].loc[:, ['Id', 'Cover_Type']].set_index('Id')\n",
    "dev_data = train_kaggle.iloc[split:,:-1].loc[:,].set_index('Id')\n",
    "dev_labels = train_kaggle.iloc[split:,].loc[:, ['Id', 'Cover_Type']].set_index('Id')"
   ]
  },
  {
   "cell_type": "code",
   "execution_count": 18,
   "metadata": {},
   "outputs": [
    {
     "name": "stdout",
     "output_type": "stream",
     "text": [
      "(12096, 54)\n",
      "(3024, 54)\n",
      "(12096, 1)\n",
      "(3024, 1)\n"
     ]
    }
   ],
   "source": [
    "print(train_data.shape)\n",
    "print(dev_data.shape)\n",
    "print(train_labels.shape)\n",
    "print(dev_labels.shape)"
   ]
  },
  {
   "cell_type": "code",
   "execution_count": 22,
   "metadata": {},
   "outputs": [],
   "source": [
    "# Write data to dataframes\n",
    "train_data.to_csv('../../data/processed/train_data.csv')\n",
    "train_labels.to_csv('../../data/processed/train_labels.csv')\n",
    "dev_data.to_csv('../../data/processed/dev_data.csv')\n",
    "dev_labels.to_csv('../../data/processed/dev_labels.csv')"
   ]
  }
 ],
 "metadata": {
  "kernelspec": {
   "display_name": "Python 3",
   "language": "python",
   "name": "python3"
  },
  "language_info": {
   "codemirror_mode": {
    "name": "ipython",
    "version": 3
   },
   "file_extension": ".py",
   "mimetype": "text/x-python",
   "name": "python",
   "nbconvert_exporter": "python",
   "pygments_lexer": "ipython3",
   "version": "3.8.3"
  }
 },
 "nbformat": 4,
 "nbformat_minor": 4
}
