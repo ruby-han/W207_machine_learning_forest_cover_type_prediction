{
 "cells": [
  {
   "cell_type": "markdown",
   "metadata": {},
   "source": [
    "## Setup for NB Section"
   ]
  },
  {
   "cell_type": "code",
   "execution_count": 1,
   "metadata": {},
   "outputs": [],
   "source": [
    "# Import Packages\n",
    "#!pip install xgboost\n",
    "#!brew install libomp\n",
    "# import kaggle\n",
    "import numpy as np\n",
    "import pandas as pd\n",
    "import re \n",
    "\n",
    "# Learning libs\n",
    "from sklearn.neighbors import KNeighborsClassifier\n",
    "from sklearn.linear_model import LogisticRegression\n",
    "from sklearn import metrics\n",
    "from sklearn.tree import DecisionTreeClassifier, export_graphviz\n",
    "from sklearn.ensemble import RandomForestClassifier\n",
    "import xgboost as xgb\n",
    "\n",
    "from sklearn.naive_bayes import BernoulliNB\n",
    "from sklearn.naive_bayes import MultinomialNB\n",
    "from sklearn.naive_bayes import GaussianNB\n",
    "from sklearn.model_selection import GridSearchCV\n",
    "from sklearn.preprocessing import StandardScaler, MinMaxScaler\n",
    "from sklearn.feature_selection import RFE\n",
    "from sklearn.svm import SVC, SVR\n",
    "from sklearn.metrics import classification_report, confusion_matrix, f1_score, make_scorer\n",
    "f1 = make_scorer(f1_score , average='macro')\n",
    "\n",
    "# PCA\n",
    "from sklearn.decomposition import PCA\n",
    "from sklearn.decomposition import KernelPCA\n",
    "from sklearn.decomposition import SparsePCA\n",
    "from sklearn.feature_selection import RFE, RFECV\n",
    "\n",
    "from sklearn.preprocessing import StandardScaler\n",
    "from sklearn.compose import make_column_selector, ColumnTransformer\n",
    "# Plotting\n",
    "import matplotlib.pyplot as plt\n",
    "import seaborn as sns\n",
    "\n",
    "# Producing Decision Tree diagrams\n",
    "from IPython.display import Image, display\n",
    "import pydotplus\n",
    "from subprocess import call\n",
    "\n",
    "# For other \n",
    "import copy\n",
    "from textwrap import wrap\n",
    "\n",
    "np.random.seed(0)"
   ]
  },
  {
   "cell_type": "code",
   "execution_count": 2,
   "metadata": {},
   "outputs": [],
   "source": [
    "train_data = pd.read_csv('../data/processed/train_data.csv').set_index('Id')\n",
    "train_labels = pd.read_csv('../data/processed/train_labels.csv').set_index('Id')\n",
    "dev_data = pd.read_csv('../data/processed/dev_data.csv').set_index('Id')\n",
    "dev_labels = pd.read_csv('../data/processed/dev_labels.csv').set_index('Id')"
   ]
  },
  {
   "cell_type": "code",
   "execution_count": 3,
   "metadata": {},
   "outputs": [],
   "source": [
    "train = train_data.merge(train_labels, how = 'left', on = train_data.index)\\\n",
    "        .set_index(train_data.index)\\\n",
    "        .drop(['key_0'], axis = 1)\n",
    "\n",
    "dev = dev_data.merge(dev_labels, how = 'left', on = dev_data.index)\\\n",
    "        .set_index(dev_data.index)\\\n",
    "        .drop(['key_0'], axis = 1)"
   ]
  },
  {
   "cell_type": "code",
   "execution_count": 4,
   "metadata": {},
   "outputs": [
    {
     "name": "stdout",
     "output_type": "stream",
     "text": [
      "Train_data and Dev_data: for models, does not include labels in DF\n",
      "(12096, 54)\n",
      "(3024, 54)\n",
      "(12096, 1)\n",
      "(3024, 1)\n",
      "\n",
      "Train and Dev: for EDA, includes labels in DF for easy plotting\n",
      "(12096, 55)\n",
      "(3024, 55)\n"
     ]
    }
   ],
   "source": [
    "print(\"Train_data and Dev_data: for models, does not include labels in DF\")\n",
    "print(train_data.shape)\n",
    "print(dev_data.shape)\n",
    "print(train_labels.shape)\n",
    "print(dev_labels.shape)\n",
    "\n",
    "print(\"\\nTrain and Dev: for EDA, includes labels in DF for easy plotting\")\n",
    "print(train.shape)\n",
    "print(dev.shape)"
   ]
  },
  {
   "cell_type": "code",
   "execution_count": 5,
   "metadata": {},
   "outputs": [
    {
     "data": {
      "text/html": [
       "<div>\n",
       "<style scoped>\n",
       "    .dataframe tbody tr th:only-of-type {\n",
       "        vertical-align: middle;\n",
       "    }\n",
       "\n",
       "    .dataframe tbody tr th {\n",
       "        vertical-align: top;\n",
       "    }\n",
       "\n",
       "    .dataframe thead th {\n",
       "        text-align: right;\n",
       "    }\n",
       "</style>\n",
       "<table border=\"1\" class=\"dataframe\">\n",
       "  <thead>\n",
       "    <tr style=\"text-align: right;\">\n",
       "      <th></th>\n",
       "      <th>zeros</th>\n",
       "      <th>total</th>\n",
       "    </tr>\n",
       "  </thead>\n",
       "  <tbody>\n",
       "    <tr>\n",
       "      <th>Elevation</th>\n",
       "      <td>0</td>\n",
       "      <td>12096</td>\n",
       "    </tr>\n",
       "    <tr>\n",
       "      <th>Aspect</th>\n",
       "      <td>91</td>\n",
       "      <td>12096</td>\n",
       "    </tr>\n",
       "    <tr>\n",
       "      <th>Slope</th>\n",
       "      <td>4</td>\n",
       "      <td>12096</td>\n",
       "    </tr>\n",
       "    <tr>\n",
       "      <th>Horizontal_Distance_To_Hydrology</th>\n",
       "      <td>1267</td>\n",
       "      <td>12096</td>\n",
       "    </tr>\n",
       "    <tr>\n",
       "      <th>Vertical_Distance_To_Hydrology</th>\n",
       "      <td>1500</td>\n",
       "      <td>12096</td>\n",
       "    </tr>\n",
       "  </tbody>\n",
       "</table>\n",
       "</div>"
      ],
      "text/plain": [
       "                                  zeros  total\n",
       "Elevation                             0  12096\n",
       "Aspect                               91  12096\n",
       "Slope                                 4  12096\n",
       "Horizontal_Distance_To_Hydrology   1267  12096\n",
       "Vertical_Distance_To_Hydrology     1500  12096"
      ]
     },
     "execution_count": 5,
     "metadata": {},
     "output_type": "execute_result"
    }
   ],
   "source": [
    "# Zero values \n",
    "# ------------------------------------------------------------------------------\n",
    "zero_counts = pd.DataFrame({'zeros':train_data[train_data == 0].count(), 'total':train_data.count()})\n",
    "\n",
    "zero_features = zero_counts[zero_counts.zeros == zero_counts.total].index.to_list()\n",
    "zero_counts.head()"
   ]
  },
  {
   "cell_type": "code",
   "execution_count": 6,
   "metadata": {},
   "outputs": [],
   "source": [
    "train_data.drop(columns = zero_features, inplace = True)\n",
    "dev_data.drop(columns = zero_features, inplace = True)"
   ]
  },
  {
   "cell_type": "code",
   "execution_count": 7,
   "metadata": {},
   "outputs": [
    {
     "data": {
      "text/html": [
       "<div>\n",
       "<style scoped>\n",
       "    .dataframe tbody tr th:only-of-type {\n",
       "        vertical-align: middle;\n",
       "    }\n",
       "\n",
       "    .dataframe tbody tr th {\n",
       "        vertical-align: top;\n",
       "    }\n",
       "\n",
       "    .dataframe thead th {\n",
       "        text-align: right;\n",
       "    }\n",
       "</style>\n",
       "<table border=\"1\" class=\"dataframe\">\n",
       "  <thead>\n",
       "    <tr style=\"text-align: right;\">\n",
       "      <th></th>\n",
       "      <th>Total_Distance_To_Hydrology</th>\n",
       "      <th>Horizontal_Distance_To_Hydrology</th>\n",
       "      <th>Vertical_Distance_To_Hydrology</th>\n",
       "    </tr>\n",
       "    <tr>\n",
       "      <th>Id</th>\n",
       "      <th></th>\n",
       "      <th></th>\n",
       "      <th></th>\n",
       "    </tr>\n",
       "  </thead>\n",
       "  <tbody>\n",
       "    <tr>\n",
       "      <th>4429</th>\n",
       "      <td>0.000000</td>\n",
       "      <td>0</td>\n",
       "      <td>0</td>\n",
       "    </tr>\n",
       "    <tr>\n",
       "      <th>12400</th>\n",
       "      <td>0.000000</td>\n",
       "      <td>0</td>\n",
       "      <td>0</td>\n",
       "    </tr>\n",
       "    <tr>\n",
       "      <th>4648</th>\n",
       "      <td>215.564376</td>\n",
       "      <td>192</td>\n",
       "      <td>98</td>\n",
       "    </tr>\n",
       "    <tr>\n",
       "      <th>5954</th>\n",
       "      <td>0.000000</td>\n",
       "      <td>0</td>\n",
       "      <td>0</td>\n",
       "    </tr>\n",
       "    <tr>\n",
       "      <th>2947</th>\n",
       "      <td>0.000000</td>\n",
       "      <td>0</td>\n",
       "      <td>0</td>\n",
       "    </tr>\n",
       "  </tbody>\n",
       "</table>\n",
       "</div>"
      ],
      "text/plain": [
       "       Total_Distance_To_Hydrology  Horizontal_Distance_To_Hydrology  \\\n",
       "Id                                                                     \n",
       "4429                      0.000000                                 0   \n",
       "12400                     0.000000                                 0   \n",
       "4648                    215.564376                               192   \n",
       "5954                      0.000000                                 0   \n",
       "2947                      0.000000                                 0   \n",
       "\n",
       "       Vertical_Distance_To_Hydrology  \n",
       "Id                                     \n",
       "4429                                0  \n",
       "12400                               0  \n",
       "4648                               98  \n",
       "5954                                0  \n",
       "2947                                0  "
      ]
     },
     "execution_count": 7,
     "metadata": {},
     "output_type": "execute_result"
    }
   ],
   "source": [
    "# Total_Distance_to_Hydrology\n",
    "# ------------------------------------------------------------------------------\n",
    "# Create Total_Distance_to_Hydrology based on Euclidean distance\n",
    "train_data['Total_Distance_To_Hydrology'] = np.sqrt(train_data[\"Horizontal_Distance_To_Hydrology\"]**2 + train_data['Vertical_Distance_To_Hydrology']**2)\n",
    "dev_data['Total_Distance_To_Hydrology'] = np.sqrt(dev_data[\"Horizontal_Distance_To_Hydrology\"]**2 + dev_data['Vertical_Distance_To_Hydrology']**2)\n",
    "train_data[[\"Total_Distance_To_Hydrology\", \"Horizontal_Distance_To_Hydrology\", \"Vertical_Distance_To_Hydrology\"]].head()"
   ]
  },
  {
   "cell_type": "code",
   "execution_count": 8,
   "metadata": {},
   "outputs": [
    {
     "name": "stdout",
     "output_type": "stream",
     "text": [
      "Index(['Elevation', 'Aspect', 'Slope', 'Horizontal_Distance_To_Hydrology',\n",
      "       'Vertical_Distance_To_Hydrology', 'Horizontal_Distance_To_Roadways',\n",
      "       'Hillshade_9am', 'Hillshade_Noon', 'Hillshade_3pm',\n",
      "       'Horizontal_Distance_To_Fire_Points', 'Total_Distance_To_Hydrology'],\n",
      "      dtype='object')\n",
      "Index(['Wilderness_Area1', 'Wilderness_Area2', 'Wilderness_Area3',\n",
      "       'Wilderness_Area4', 'Soil_Type1', 'Soil_Type2', 'Soil_Type3',\n",
      "       'Soil_Type4', 'Soil_Type5', 'Soil_Type6', 'Soil_Type9', 'Soil_Type10',\n",
      "       'Soil_Type11', 'Soil_Type12', 'Soil_Type13', 'Soil_Type14',\n",
      "       'Soil_Type16', 'Soil_Type17', 'Soil_Type18', 'Soil_Type19',\n",
      "       'Soil_Type20', 'Soil_Type21', 'Soil_Type22', 'Soil_Type23',\n",
      "       'Soil_Type24', 'Soil_Type25', 'Soil_Type26', 'Soil_Type27',\n",
      "       'Soil_Type28', 'Soil_Type29', 'Soil_Type30', 'Soil_Type31',\n",
      "       'Soil_Type32', 'Soil_Type33', 'Soil_Type34', 'Soil_Type35',\n",
      "       'Soil_Type36', 'Soil_Type37', 'Soil_Type38', 'Soil_Type39',\n",
      "       'Soil_Type40'],\n",
      "      dtype='object')\n",
      "[0, 1, 2, 3, 4, 5, 6, 7, 8, 9, 51]\n"
     ]
    }
   ],
   "source": [
    "continuous_features = list(train_data.columns[0:10]) + ['Total_Distance_To_Hydrology']\n",
    "binary_features = train_data.columns[10:-1].to_list()\n",
    "\n",
    "continuous_index = [train_data.columns.tolist().index(f) for f in continuous_features]\n",
    "binary_index = [train_data.columns.tolist().index(f) for f in binary_features]\n",
    "\n",
    "print(train_data.iloc[:,continuous_index].columns)\n",
    "print(train_data.iloc[:,binary_index].columns)\n",
    "print(continuous_index)"
   ]
  },
  {
   "cell_type": "code",
   "execution_count": 9,
   "metadata": {},
   "outputs": [
    {
     "data": {
      "text/html": [
       "<div>\n",
       "<style scoped>\n",
       "    .dataframe tbody tr th:only-of-type {\n",
       "        vertical-align: middle;\n",
       "    }\n",
       "\n",
       "    .dataframe tbody tr th {\n",
       "        vertical-align: top;\n",
       "    }\n",
       "\n",
       "    .dataframe thead th {\n",
       "        text-align: right;\n",
       "    }\n",
       "</style>\n",
       "<table border=\"1\" class=\"dataframe\">\n",
       "  <thead>\n",
       "    <tr style=\"text-align: right;\">\n",
       "      <th></th>\n",
       "      <th>Elevation</th>\n",
       "      <th>Aspect</th>\n",
       "      <th>Slope</th>\n",
       "      <th>Horizontal_Distance_To_Hydrology</th>\n",
       "      <th>Vertical_Distance_To_Hydrology</th>\n",
       "      <th>Horizontal_Distance_To_Roadways</th>\n",
       "      <th>Hillshade_9am</th>\n",
       "      <th>Hillshade_Noon</th>\n",
       "      <th>Hillshade_3pm</th>\n",
       "      <th>Horizontal_Distance_To_Fire_Points</th>\n",
       "      <th>Total_Distance_To_Hydrology</th>\n",
       "    </tr>\n",
       "  </thead>\n",
       "  <tbody>\n",
       "    <tr>\n",
       "      <th>count</th>\n",
       "      <td>1.209600e+04</td>\n",
       "      <td>1.209600e+04</td>\n",
       "      <td>1.209600e+04</td>\n",
       "      <td>1.209600e+04</td>\n",
       "      <td>1.209600e+04</td>\n",
       "      <td>1.209600e+04</td>\n",
       "      <td>1.209600e+04</td>\n",
       "      <td>1.209600e+04</td>\n",
       "      <td>1.209600e+04</td>\n",
       "      <td>1.209600e+04</td>\n",
       "      <td>1.209600e+04</td>\n",
       "    </tr>\n",
       "    <tr>\n",
       "      <th>mean</th>\n",
       "      <td>2.946827e-16</td>\n",
       "      <td>-3.465776e-17</td>\n",
       "      <td>1.373552e-16</td>\n",
       "      <td>-1.859917e-16</td>\n",
       "      <td>-5.837482e-18</td>\n",
       "      <td>-1.061531e-16</td>\n",
       "      <td>2.473817e-16</td>\n",
       "      <td>2.816367e-16</td>\n",
       "      <td>1.872538e-16</td>\n",
       "      <td>5.739617e-17</td>\n",
       "      <td>-1.657625e-16</td>\n",
       "    </tr>\n",
       "    <tr>\n",
       "      <th>std</th>\n",
       "      <td>1.000041e+00</td>\n",
       "      <td>1.000041e+00</td>\n",
       "      <td>1.000041e+00</td>\n",
       "      <td>1.000041e+00</td>\n",
       "      <td>1.000041e+00</td>\n",
       "      <td>1.000041e+00</td>\n",
       "      <td>1.000041e+00</td>\n",
       "      <td>1.000041e+00</td>\n",
       "      <td>1.000041e+00</td>\n",
       "      <td>1.000041e+00</td>\n",
       "      <td>1.000041e+00</td>\n",
       "    </tr>\n",
       "    <tr>\n",
       "      <th>min</th>\n",
       "      <td>-2.124240e+00</td>\n",
       "      <td>-1.423808e+00</td>\n",
       "      <td>-1.955819e+00</td>\n",
       "      <td>-1.083077e+00</td>\n",
       "      <td>-3.209591e+00</td>\n",
       "      <td>-1.298828e+00</td>\n",
       "      <td>-6.906541e+00</td>\n",
       "      <td>-5.260928e+00</td>\n",
       "      <td>-2.949754e+00</td>\n",
       "      <td>-1.380555e+00</td>\n",
       "      <td>-1.096632e+00</td>\n",
       "    </tr>\n",
       "    <tr>\n",
       "      <th>25%</th>\n",
       "      <td>-8.952984e-01</td>\n",
       "      <td>-8.337014e-01</td>\n",
       "      <td>-7.719155e-01</td>\n",
       "      <td>-7.639456e-01</td>\n",
       "      <td>-7.497377e-01</td>\n",
       "      <td>-7.188853e-01</td>\n",
       "      <td>-5.362354e-01</td>\n",
       "      <td>-5.247223e-01</td>\n",
       "      <td>-6.176491e-01</td>\n",
       "      <td>-7.119251e-01</td>\n",
       "      <td>-7.838265e-01</td>\n",
       "    </tr>\n",
       "    <tr>\n",
       "      <th>50%</th>\n",
       "      <td>5.446341e-03</td>\n",
       "      <td>-2.799089e-01</td>\n",
       "      <td>-1.799639e-01</td>\n",
       "      <td>-2.257094e-01</td>\n",
       "      <td>-3.098964e-01</td>\n",
       "      <td>-3.022646e-01</td>\n",
       "      <td>2.438020e-01</td>\n",
       "      <td>1.769377e-01</td>\n",
       "      <td>5.800748e-02</td>\n",
       "      <td>-2.344632e-01</td>\n",
       "      <td>-2.249585e-01</td>\n",
       "    </tr>\n",
       "    <tr>\n",
       "      <th>75%</th>\n",
       "      <td>8.463011e-01</td>\n",
       "      <td>9.456974e-01</td>\n",
       "      <td>6.487684e-01</td>\n",
       "      <td>4.887633e-01</td>\n",
       "      <td>4.720437e-01</td>\n",
       "      <td>4.205838e-01</td>\n",
       "      <td>7.313254e-01</td>\n",
       "      <td>7.031828e-01</td>\n",
       "      <td>7.118686e-01</td>\n",
       "      <td>4.371392e-01</td>\n",
       "      <td>4.928629e-01</td>\n",
       "    </tr>\n",
       "    <tr>\n",
       "      <th>max</th>\n",
       "      <td>2.633417e+00</td>\n",
       "      <td>1.844475e+00</td>\n",
       "      <td>4.200478e+00</td>\n",
       "      <td>5.313836e+00</td>\n",
       "      <td>8.193702e+00</td>\n",
       "      <td>3.910823e+00</td>\n",
       "      <td>1.348855e+00</td>\n",
       "      <td>1.536404e+00</td>\n",
       "      <td>2.455498e+00</td>\n",
       "      <td>4.887734e+00</td>\n",
       "      <td>5.204268e+00</td>\n",
       "    </tr>\n",
       "  </tbody>\n",
       "</table>\n",
       "</div>"
      ],
      "text/plain": [
       "          Elevation        Aspect         Slope  \\\n",
       "count  1.209600e+04  1.209600e+04  1.209600e+04   \n",
       "mean   2.946827e-16 -3.465776e-17  1.373552e-16   \n",
       "std    1.000041e+00  1.000041e+00  1.000041e+00   \n",
       "min   -2.124240e+00 -1.423808e+00 -1.955819e+00   \n",
       "25%   -8.952984e-01 -8.337014e-01 -7.719155e-01   \n",
       "50%    5.446341e-03 -2.799089e-01 -1.799639e-01   \n",
       "75%    8.463011e-01  9.456974e-01  6.487684e-01   \n",
       "max    2.633417e+00  1.844475e+00  4.200478e+00   \n",
       "\n",
       "       Horizontal_Distance_To_Hydrology  Vertical_Distance_To_Hydrology  \\\n",
       "count                      1.209600e+04                    1.209600e+04   \n",
       "mean                      -1.859917e-16                   -5.837482e-18   \n",
       "std                        1.000041e+00                    1.000041e+00   \n",
       "min                       -1.083077e+00                   -3.209591e+00   \n",
       "25%                       -7.639456e-01                   -7.497377e-01   \n",
       "50%                       -2.257094e-01                   -3.098964e-01   \n",
       "75%                        4.887633e-01                    4.720437e-01   \n",
       "max                        5.313836e+00                    8.193702e+00   \n",
       "\n",
       "       Horizontal_Distance_To_Roadways  Hillshade_9am  Hillshade_Noon  \\\n",
       "count                     1.209600e+04   1.209600e+04    1.209600e+04   \n",
       "mean                     -1.061531e-16   2.473817e-16    2.816367e-16   \n",
       "std                       1.000041e+00   1.000041e+00    1.000041e+00   \n",
       "min                      -1.298828e+00  -6.906541e+00   -5.260928e+00   \n",
       "25%                      -7.188853e-01  -5.362354e-01   -5.247223e-01   \n",
       "50%                      -3.022646e-01   2.438020e-01    1.769377e-01   \n",
       "75%                       4.205838e-01   7.313254e-01    7.031828e-01   \n",
       "max                       3.910823e+00   1.348855e+00    1.536404e+00   \n",
       "\n",
       "       Hillshade_3pm  Horizontal_Distance_To_Fire_Points  \\\n",
       "count   1.209600e+04                        1.209600e+04   \n",
       "mean    1.872538e-16                        5.739617e-17   \n",
       "std     1.000041e+00                        1.000041e+00   \n",
       "min    -2.949754e+00                       -1.380555e+00   \n",
       "25%    -6.176491e-01                       -7.119251e-01   \n",
       "50%     5.800748e-02                       -2.344632e-01   \n",
       "75%     7.118686e-01                        4.371392e-01   \n",
       "max     2.455498e+00                        4.887734e+00   \n",
       "\n",
       "       Total_Distance_To_Hydrology  \n",
       "count                 1.209600e+04  \n",
       "mean                 -1.657625e-16  \n",
       "std                   1.000041e+00  \n",
       "min                  -1.096632e+00  \n",
       "25%                  -7.838265e-01  \n",
       "50%                  -2.249585e-01  \n",
       "75%                   4.928629e-01  \n",
       "max                   5.204268e+00  "
      ]
     },
     "execution_count": 9,
     "metadata": {},
     "output_type": "execute_result"
    }
   ],
   "source": [
    "# Transform continuous features to normalize\n",
    "X_train = train_data[continuous_features + binary_features]\n",
    "X_dev = dev_data[continuous_features + binary_features]\n",
    "X_train.shape\n",
    "\n",
    "ct = ColumnTransformer([\n",
    "        ('features', StandardScaler(), continuous_features)\n",
    "        ], remainder='passthrough')\n",
    "nX_train = ct.fit_transform(X_train)\n",
    "nX_dev = ct.transform(X_dev)\n",
    "pd.DataFrame(nX_train, columns = X_train.columns).loc[:,continuous_features].describe()"
   ]
  },
  {
   "cell_type": "code",
   "execution_count": 10,
   "metadata": {},
   "outputs": [
    {
     "name": "stdout",
     "output_type": "stream",
     "text": [
      "(12096, 52)\n",
      "(12096, 52)\n",
      "(3024, 52)\n",
      "(3024, 52)\n"
     ]
    }
   ],
   "source": [
    "# Relabel outcome variable - check match\n",
    "y_train = train_labels.Cover_Type\n",
    "y_dev = dev_labels.Cover_Type\n",
    "\n",
    "print(X_train.shape)\n",
    "print(nX_train.shape)\n",
    "print(X_dev.shape)\n",
    "print(nX_dev.shape)"
   ]
  },
  {
   "cell_type": "markdown",
   "metadata": {},
   "source": [
    "## Naive Bayes Models"
   ]
  },
  {
   "cell_type": "markdown",
   "metadata": {},
   "source": [
    "### Model Strategy and Results\n",
    "\n",
    "Our first attempt for modeling this problem involved using the Naive Bayes classifier. Based on the course content and additional research that we had done, we believed that while Naive Bayes tends to be overconfident about results, the classifier tends to generalize well to different data sets.\n",
    "\n",
    "We realized quickly, however, that our set of data includes both binary and continuous variables, which makes it more difficult to produce a Naive Bayes model. A Gaussian Naive Bayes model requires the use of continuous data, and a Bernoulli Naive Bayes model requires the data to be binary (or ordered, in the case of using a Multinomial model). There is not one model that utilizes both continuous and binary data.\n",
    "\n",
    "One option we had was to convert the continuous data into binary or multinomial data, which would result in a loss of information, but may simplify the model so that it generalizes better. Another option we looked into was combining the results of a Bernoulli model with the results of a Gaussian model. Other attempts at improving our F1 Score and accuracy included smoothing the model, transforming our continuous features using the Yeo-Johnson method, and removing subsets of features. After extensive model tuning, we found that we could only reach a maximum F1 score of **63.9%** and an accuracy of **63.7%** using the Naive Bayes Classifier. While this in part could be due to having two classes of data, we believe that this data set also violates the independence assumption required for a Naive Bayes model, in which features are assumed to be independent. Based on our scatterplots above, it may be the case that our features are too closely related. \n",
    "\n",
    "A summary of our modeling iterations is presented in this section below, but a more detailed description of our results can be found in the Appendix at the end of this document.\n",
    "\n",
    "\n",
    "**[INSERT RESULTS BELOW - MODEL TYPES AND SCORES]**"
   ]
  },
  {
   "cell_type": "code",
   "execution_count": null,
   "metadata": {},
   "outputs": [],
   "source": []
  },
  {
   "cell_type": "markdown",
   "metadata": {},
   "source": [
    "### [All that follows below will be in our Appendix]\n",
    "\n",
    "Our features are represented by two different classes of data. We have **continuous variables** (elevation, aspect, slope, horizontal/vertical distance to hydrology, horizontal distance to roadways, hillshade, horizontal distance to fire points), and **binary variables** (wilderness areas, soil types), all of which are associated with 7 different tree cover types.\n",
    "\n",
    "Because there is a mix of continuous/binary variables, we cannot just use a Gaussian (continuous) or Bernoulli (binary) Naive Bayes.\n",
    "\n",
    "As a first pass, we train and evaluate models on the subsets of features that immediately fit into the models.\n",
    "\n",
    "Later, feature selection, transformation, etc. will be performed to allow for combinations of such features into a single Naive Bayes Model."
   ]
  },
  {
   "cell_type": "markdown",
   "metadata": {},
   "source": [
    "#### Implement Gaussian Naive Bayes with strictly continuous features"
   ]
  },
  {
   "cell_type": "code",
   "execution_count": 11,
   "metadata": {},
   "outputs": [],
   "source": [
    "# For NB, we will remove 'Total_Distance_to_Hydrology'\n",
    "continuous_features.remove('Total_Distance_To_Hydrology') "
   ]
  },
  {
   "cell_type": "code",
   "execution_count": 12,
   "metadata": {},
   "outputs": [
    {
     "name": "stdout",
     "output_type": "stream",
     "text": [
      "Gaussian Naive Bayes (Only Continuous Features)\n",
      "F1: 0.583 \n",
      "Accuracy: 0.592\n"
     ]
    }
   ],
   "source": [
    "# Fit Gaussian Naive Bayes\n",
    "gausNB = GaussianNB().fit(X_train[continuous_features], np.array(y_train).ravel())          # Fit\n",
    "gausNB_pred = gausNB.predict(X_dev[continuous_features])                  # Predict\n",
    "\n",
    "gausNB_f1 = metrics.f1_score(y_dev, gausNB_pred, average = 'weighted')    # F1\n",
    "gausNB_accur = gausNB.score(X_dev[continuous_features], y_dev)            # Accuracy\n",
    "\n",
    "print('Gaussian Naive Bayes (Only Continuous Features)')\n",
    "print(f'F1: {gausNB_f1:.3f} \\nAccuracy: {gausNB_accur:.3f}')"
   ]
  },
  {
   "cell_type": "markdown",
   "metadata": {},
   "source": [
    "#### Implement Bernoulli Naive Bayes with strictly binary features"
   ]
  },
  {
   "cell_type": "code",
   "execution_count": 13,
   "metadata": {
    "scrolled": true
   },
   "outputs": [
    {
     "name": "stdout",
     "output_type": "stream",
     "text": [
      "Bernoulli Naive Bayes (Only Binary features)\n",
      "F1: 0.578 \n",
      "Accuracy: 0.583\n"
     ]
    }
   ],
   "source": [
    "# Fit Bernoulli Naive Bayes\n",
    "bNB = BernoulliNB().fit(X_train[binary_features], np.array(y_train).ravel())          # Fit\n",
    "bNB_pred = bNB.predict(X_dev[binary_features])                      # Predict\n",
    "\n",
    "bNB_f1 = metrics.f1_score(y_dev, bNB_pred, average = 'weighted')    # F1\n",
    "bNB_accur = bNB.score(X_dev[binary_features], y_dev)                # Accuracy\n",
    "\n",
    "print('Bernoulli Naive Bayes (Only Binary features)')\n",
    "print(f'F1: {bNB_f1:.3f} \\nAccuracy: {bNB_accur:.3f}')"
   ]
  },
  {
   "cell_type": "markdown",
   "metadata": {},
   "source": [
    "#### Combine the results of a Bernoulli Model and a Gaussian Model"
   ]
  },
  {
   "cell_type": "code",
   "execution_count": 14,
   "metadata": {},
   "outputs": [
    {
     "name": "stdout",
     "output_type": "stream",
     "text": [
      "Combined Gaussian and Bernoulli Probability Model\n",
      "F1: 0.311 \n",
      "Accuracy: 0.356\n"
     ]
    }
   ],
   "source": [
    "# Get probability predictions for each model\n",
    "# On training data\n",
    "G_train_probs = gausNB.predict_proba(X_train[continuous_features])\n",
    "C_train_probs = bNB.predict_proba(X_train[binary_features])\n",
    "\n",
    "# On dev data\n",
    "G_dev_probs = gausNB.predict_proba(X_dev[continuous_features])\n",
    "C_dev_probs = bNB.predict_proba(X_dev[binary_features])\n",
    "\n",
    "# Combine probability prediction for class=1 from both models into a 2D array\n",
    "# np.c_ translates slice objects to concatenation along the second axis.\n",
    "X_new_train = np.c_[(G_train_probs[:,1], C_train_probs[:,1])] # Train\n",
    "X_new_dev = np.c_[(G_dev_probs[:,1], C_dev_probs[:,1])] # Dev\n",
    "\n",
    "# Fit final Gaussian model\n",
    "# Using the probabilities from the last two modes as input\n",
    "model = GaussianNB().fit(X_new_train, y_train)\n",
    "\n",
    "# Predict class labels on dev data\n",
    "pred_labels_dev = model.predict(X_new_dev)\n",
    "\n",
    "combined_f1 = metrics.f1_score(y_dev, pred_labels_dev, average = 'weighted') \n",
    "combined_score = model.score(X_new_dev, y_dev)\n",
    "\n",
    "print('Combined Gaussian and Bernoulli Probability Model')\n",
    "print(f'F1: {combined_f1:.3f} \\nAccuracy: {combined_score:.3f}')"
   ]
  },
  {
   "cell_type": "markdown",
   "metadata": {},
   "source": [
    "The combined model does extremely worse, with an F1 score of 0.311 and an accuracy of 0.356. This is unacceptable for a predictive model, so we will move away from this method. Next, we will attempt to binarize the continuous variables to input into a Bernoulli model."
   ]
  },
  {
   "cell_type": "markdown",
   "metadata": {},
   "source": [
    "#### Binarize Continuous Features\n",
    "\n",
    "Even despite the combined model's unacceptable accuracy, we can still see that separately, the Gaussian model and the Bernoulli model does a poor job of prediction, each under 60% accuracy. Let's try to binarize some of the continuous variables across their means."
   ]
  },
  {
   "cell_type": "code",
   "execution_count": 15,
   "metadata": {},
   "outputs": [],
   "source": [
    "# Find mean of each continuous column and append to list\n",
    "mean_list = []\n",
    "for feature in continuous_features:\n",
    "    mean_list.append(np.mean(X_train[feature]))\n",
    "\n",
    "# Define function to binarize on the mean (referenced Week 2 Tutorial)\n",
    "def binarize_data(data, feature_cols, thresholds = mean_list):\n",
    "    '''\n",
    "    Purpose: binarize continuous features, where 0 represents below (or equal to) mean, 1 represents above mean\n",
    "    Input: continuous feature columns, names of features to be binarized, thresholds for binarization\n",
    "    Output: binarized feature columns, same shape of input\n",
    "    '''\n",
    "    \n",
    "    # Initialize a new feature array with the same shape as the original data.\n",
    "    binarized_data = data.copy() # avoid changing the original data\n",
    "\n",
    "    # Apply a threshold  to each feature.\n",
    "    i = 0\n",
    "    for feature in feature_cols:\n",
    "        binarized_data[feature] = 1 * (binarized_data[feature] > thresholds[i])\n",
    "        i+=1\n",
    "    return binarized_data"
   ]
  },
  {
   "cell_type": "markdown",
   "metadata": {},
   "source": [
    "#### Test a Bernoulli NB model with Binarized + Binary Features"
   ]
  },
  {
   "cell_type": "code",
   "execution_count": 16,
   "metadata": {},
   "outputs": [
    {
     "name": "stdout",
     "output_type": "stream",
     "text": [
      "Bernoulli Naive Bayes (All features binarized + Binary features)\n",
      "F1: 0.610 \n",
      "Accuracy: 0.617\n"
     ]
    },
    {
     "data": {
      "text/plain": [
       "['Wilderness_Area1',\n",
       " 'Wilderness_Area2',\n",
       " 'Wilderness_Area3',\n",
       " 'Wilderness_Area4',\n",
       " 'Soil_Type1',\n",
       " 'Soil_Type2',\n",
       " 'Soil_Type3',\n",
       " 'Soil_Type4',\n",
       " 'Soil_Type5',\n",
       " 'Soil_Type6',\n",
       " 'Soil_Type9',\n",
       " 'Soil_Type10',\n",
       " 'Soil_Type11',\n",
       " 'Soil_Type12',\n",
       " 'Soil_Type13',\n",
       " 'Soil_Type14',\n",
       " 'Soil_Type16',\n",
       " 'Soil_Type17',\n",
       " 'Soil_Type18',\n",
       " 'Soil_Type19',\n",
       " 'Soil_Type20',\n",
       " 'Soil_Type21',\n",
       " 'Soil_Type22',\n",
       " 'Soil_Type23',\n",
       " 'Soil_Type24',\n",
       " 'Soil_Type25',\n",
       " 'Soil_Type26',\n",
       " 'Soil_Type27',\n",
       " 'Soil_Type28',\n",
       " 'Soil_Type29',\n",
       " 'Soil_Type30',\n",
       " 'Soil_Type31',\n",
       " 'Soil_Type32',\n",
       " 'Soil_Type33',\n",
       " 'Soil_Type34',\n",
       " 'Soil_Type35',\n",
       " 'Soil_Type36',\n",
       " 'Soil_Type37',\n",
       " 'Soil_Type38',\n",
       " 'Soil_Type39',\n",
       " 'Soil_Type40']"
      ]
     },
     "execution_count": 16,
     "metadata": {},
     "output_type": "execute_result"
    }
   ],
   "source": [
    "# Transform the continuous variables to binary\n",
    "bin_train_X = binarize_data(X_train, continuous_features) # Binarize all continuous features\n",
    "bin_dev_X = binarize_data(X_dev, continuous_features)\n",
    "\n",
    "# Fit Bernoulli Naive Bayes\n",
    "bNB2 = BernoulliNB().fit(bin_train_X, np.array(y_train).ravel())     # Fit\n",
    "bNB_pred2 = bNB2.predict(bin_dev_X)                                  # Predict\n",
    "\n",
    "bNB_f1 = metrics.f1_score(y_dev, bNB_pred2, average = 'weighted')    # F1\n",
    "bNB_accur = bNB2.score(bin_dev_X, y_dev)                             # Accuracy\n",
    "\n",
    "print('Bernoulli Naive Bayes (All features binarized + Binary features)')\n",
    "print(f'F1: {bNB_f1:.3f} \\nAccuracy: {bNB_accur:.3f}')\n",
    "binary_features"
   ]
  },
  {
   "cell_type": "markdown",
   "metadata": {},
   "source": [
    "Notice there are only marginal returns to accuracy after adding in binarized features. This could be for a number of reasons, but is most likely due to the distribution of each continuous variable. When we split on mean, we are making some assumption that this is a \"good\" split, which mostly relies on a bell-shaped distribution across the features with mean falling roughly in the middle.\n",
    "\n",
    "What if we only binarize the features that are well distributed?"
   ]
  },
  {
   "cell_type": "markdown",
   "metadata": {},
   "source": [
    "#### Test a Bernoulli NB model with only well-distributed features binarized"
   ]
  },
  {
   "cell_type": "code",
   "execution_count": 17,
   "metadata": {},
   "outputs": [
    {
     "name": "stdout",
     "output_type": "stream",
     "text": [
      "Bernoulli Naive Bayes (Some features binarized + Binary features)\n",
      "F1: 0.639 \n",
      "Accuracy: 0.637\n"
     ]
    }
   ],
   "source": [
    "some_features = ['Elevation', 'Slope', 'Vertical_Distance_To_Hydrology', 'Hillshade_3pm']\n",
    "model_features = some_features + binary_features\n",
    "# model_features = some_features + binary_features[:13] + binary_features[14:]\n",
    "\n",
    "# Transform the continuous variables to binary\n",
    "bin_train_X = binarize_data(X_train, some_features) # Binarize a subset of continuous features\n",
    "bin_dev_X = binarize_data(X_dev, some_features)\n",
    "\n",
    "# Fit Bernoulli Naive Bayes\n",
    "bNB2 = BernoulliNB().fit(bin_train_X, np.array(y_train).ravel())     # Fit\n",
    "bNB_pred2 = bNB2.predict(bin_dev_X)                                  # Predict\n",
    "\n",
    "bNB_f1 = metrics.f1_score(y_dev, bNB_pred2, average = 'weighted')    # F1\n",
    "bNB_accur = bNB2.score(bin_dev_X, y_dev)                             # Accuracy\n",
    "\n",
    "print('Bernoulli Naive Bayes (Some features binarized + Binary features)')\n",
    "print(f'F1: {bNB_f1:.3f} \\nAccuracy: {bNB_accur:.3f}')"
   ]
  },
  {
   "cell_type": "markdown",
   "metadata": {},
   "source": [
    "#### Transform continuous features based on quantiles\n",
    "\n",
    "Binarizing the continuous features may be too simple, resulting in too much information loss. Instead, we'll take the continuous features and transform them into multinomial data based on quantiles."
   ]
  },
  {
   "cell_type": "code",
   "execution_count": 18,
   "metadata": {},
   "outputs": [
    {
     "name": "stdout",
     "output_type": "stream",
     "text": [
      "Quantiles Chosen: [0.25, 0.5, 0.75] \n",
      "\n",
      "Thresholds for Train Data:\n",
      " [[2376. 2752. 3103.]\n",
      " [  65.  126.  261.]\n",
      " [  10.   15.   22.]\n",
      " [  67.  180.  330.]\n",
      " [   5.   32.   80.]\n",
      " [ 767. 1318. 2274.]\n",
      " [ 196.  220.  235.]\n",
      " [ 207.  223.  235.]\n",
      " [ 107.  138.  168.]\n",
      " [ 731. 1253. 1987.]] \n",
      "\n"
     ]
    },
    {
     "data": {
      "text/plain": [
       "(3024, 51)"
      ]
     },
     "execution_count": 18,
     "metadata": {},
     "output_type": "execute_result"
    }
   ],
   "source": [
    "'''\n",
    "Creating thresholds based on quantiles\n",
    "'''\n",
    "def define_thresholds(data, num_divisions):\n",
    "    thresholds = np.zeros([len(data.columns), num_divisions-1])\n",
    "    step = round(1/num_divisions,2)\n",
    "    prev = 0\n",
    "    bins = []\n",
    "    for i in range(num_divisions-1):\n",
    "        num = prev\n",
    "        bins.append(num+step)\n",
    "        prev = num+step\n",
    "    print(\"Quantiles Chosen:\", bins, '\\n')\n",
    "    \n",
    "    i = 0\n",
    "    for item in data.columns:\n",
    "        for j in range(len(bins)):\n",
    "            thresholds[i][j] = int(data[item].quantile(bins[j]))\n",
    "        i+=1\n",
    "    return thresholds\n",
    "\n",
    "''' \n",
    "Convert Continuous Dataframe to Multifeature Dataframe\n",
    "\n",
    "threshold:    NxM array, N = number of columns, M = number of bins\n",
    "inputs:       dataframe, threshold values\n",
    "outputs:      new dataframe\n",
    "'''\n",
    "def multifeature(data, thresholds):\n",
    "    # capture column names\n",
    "    features = list(data.columns)\n",
    "    \n",
    "    # initiate a new dataframe \n",
    "    new_df = data.copy()\n",
    "\n",
    "    i=0\n",
    "    # bin the data\n",
    "    for feature in features:\n",
    "        new_df[feature] = np.digitize(np.array(data[feature]), thresholds[i])\n",
    "        i+=1\n",
    "        \n",
    "    return new_df\n",
    "\n",
    "num_divisions = 4\n",
    "thresholds = define_thresholds(X_train[continuous_features], num_divisions)\n",
    "print(\"Thresholds for Train Data:\\n\", thresholds, '\\n')\n",
    "train_df = multifeature(X_train[continuous_features], thresholds)\n",
    "dev_df = multifeature(X_dev[continuous_features], thresholds)\n",
    "\n",
    "# This will merge our newly created multinomial features with the original binary features\n",
    "Xtrain_multi = pd.merge(train_df, X_train[binary_features], left_on='Id', right_on='Id', how='left')\n",
    "Xtrain_multi.shape\n",
    "\n",
    "Xdev_multi = pd.merge(dev_df, X_dev[binary_features], left_on='Id', right_on='Id', how='left')\n",
    "Xdev_multi.shape"
   ]
  },
  {
   "cell_type": "markdown",
   "metadata": {},
   "source": [
    "#### Test a Multinomial NB model with Multinomial Transformation + Binary Features"
   ]
  },
  {
   "cell_type": "code",
   "execution_count": 19,
   "metadata": {},
   "outputs": [
    {
     "name": "stdout",
     "output_type": "stream",
     "text": [
      "Bernoulli Naive Bayes (Multinomial Transformed Features + Binary features)\n",
      "F1: 0.624 \n",
      "Accuracy: 0.623\n",
      "Confusion Matrix for Dev: \n",
      "\n",
      " [[220 116   3   0  45   1  51]\n",
      " [ 93 234   8   0  82  15   2]\n",
      " [  0   2 201  50  39 131   0]\n",
      " [  0   0  44 387   0  24   0]\n",
      " [ 65  56  24   0 266  14   0]\n",
      " [  4  12 106  25  42 239   0]\n",
      " [ 42  33   0   0  10   0 338]] \n",
      "\n"
     ]
    }
   ],
   "source": [
    "model = MultinomialNB(alpha=0.0001).fit(Xtrain_multi, y_train)\n",
    "pred_y_dev = model.predict(Xdev_multi)\n",
    "mNB_f1 = metrics.f1_score(y_dev, pred_y_dev, average = 'weighted')\n",
    "mNB_accur = model.score(Xdev_multi, y_dev)\n",
    "print('Bernoulli Naive Bayes (Multinomial Transformed Features + Binary features)')   \n",
    "print(f'F1: {mNB_f1:.3f} \\nAccuracy: {mNB_accur:.3f}')\n",
    "\n",
    "# Confusion Matrix\n",
    "cm = confusion_matrix(y_dev, pred_y_dev)\n",
    "print('Confusion Matrix for Dev: \\n\\n', cm, \"\\n\")"
   ]
  },
  {
   "cell_type": "markdown",
   "metadata": {},
   "source": [
    "#### Ensemble Method: Voting with Gaussian NB and Bernoulli NB\n",
    "\n",
    "Neither Bernoulli or Gaussian NB did particularly well on their own, so here we test an ensemble method - which attempts to leverage both in order to increase prediction accuracy. This should allow the continuous variables to be mostly predicted by the GaussianNB, and binary variables to be mostly predicted by Bernoulli NB"
   ]
  },
  {
   "cell_type": "code",
   "execution_count": 20,
   "metadata": {},
   "outputs": [
    {
     "name": "stdout",
     "output_type": "stream",
     "text": [
      "Ensemble Naive Bayes (Bernoulli + Gaussian Voting)\n",
      "Accuracy: 0.580\n"
     ]
    }
   ],
   "source": [
    "from sklearn.ensemble import VotingClassifier\n",
    "\n",
    "# binary_features.remove('Soil_Type22')\n",
    "# binary_features.remove('Soil_Type23')\n",
    "# binary_features.remove('Soil_Type29')\n",
    "# binary_features.remove('Soil_Type32')\n",
    "# binary_features.remove('Soil_Type38')\n",
    "# binary_features.remove('Soil_Type39')\n",
    "# binary_features.remove('Soil_Type40')\n",
    "clf1 = GaussianNB().fit(X_train[continuous_features], np.array(y_train).ravel())\n",
    "clf2 = BernoulliNB().fit(X_train[binary_features], np.array(y_train).ravel())\n",
    "\n",
    "eclf2 = VotingClassifier( estimators = [\n",
    "                            ('GNB', clf1) , ('BNB', clf2)], voting = 'hard')\n",
    "eclf2 = eclf2.fit(X_train, y_train)\n",
    "preds = eclf2.predict(X_dev)\n",
    "accur = eclf2.score(X_dev, y_dev)\n",
    "print(f'Ensemble Naive Bayes (Bernoulli + Gaussian Voting)\\nAccuracy: {accur:.3f}')"
   ]
  },
  {
   "cell_type": "markdown",
   "metadata": {},
   "source": [
    "### Data Transformation\n",
    "So far, the best model was a Bernoulli NB with \"well-distributed\" continuous variables binarized, and all binary features included.\n",
    "\n",
    "Even then, prediction accuracy and F1 still hovered right above **63%**.\n",
    "\n",
    "In an attempt to improve accuracy, we will next try to make the data better \"fit\" the model with transformations.\n",
    "\n",
    "First, we will bring some of our original EDA in to examine the distributions of continuous variables."
   ]
  },
  {
   "cell_type": "markdown",
   "metadata": {},
   "source": [
    "#### EDA: Function to Plot Continuous Data"
   ]
  },
  {
   "cell_type": "code",
   "execution_count": 21,
   "metadata": {},
   "outputs": [],
   "source": [
    "plt.rcParams.update({'text.color' : \"dimgrey\",\n",
    "                     'axes.labelcolor' : \"grey\"})\n",
    "\n",
    "# Loop through to show hist of non-binary for each \n",
    "# for d, data in enumerate(datasets):    # For each dataset\n",
    "def plot_histograms(features, data = X_train):\n",
    "    \n",
    "    fig, axes = plt.subplots(1, len(features))\n",
    "    \n",
    "    for i in np.arange(0, len(features)):          # For each non-binary figure in dataset\n",
    "\n",
    "        data.iloc[:, i].plot.hist(ax = axes[i], \n",
    "                                    figsize = (50,10), \n",
    "                                    sharex = True, color = '#1c4966')\n",
    "\n",
    "        \n",
    "\n",
    "        axes[i].set_title(\"\\n\".join(wrap(features[i], 12)))\n",
    "            \n",
    "        # For All Plots\n",
    "        axes[i].set_yticks([])\n",
    "        axes[i].spines['top'].set_visible(False)\n",
    "        axes[i].spines['right'].set_visible(False)\n",
    "        axes[i].spines['left'].set_color('grey')\n",
    "        axes[i].spines['bottom'].set_color('grey')\n",
    "        axes[i].tick_params(colors = 'grey')"
   ]
  },
  {
   "cell_type": "markdown",
   "metadata": {},
   "source": [
    "Based on the original histograms in the EDA section, some features appear to be a bit better distributed than others, but none of them are entirely normal. Therefore, we will consider transformations for each.\n",
    "\n",
    "The Yeo-Johnson transformation is chosen as it is able to accept negative values, unlike other popular transformation algorithms like Box-cox. Following transformation, each of the variables are also (0,1) normalized"
   ]
  },
  {
   "cell_type": "code",
   "execution_count": 22,
   "metadata": {},
   "outputs": [],
   "source": [
    "from sklearn.preprocessing import PowerTransformer\n",
    "\n",
    "# Function to Transform variables using SKlearn PowerTransformer\n",
    "def transform_vars(data, features, method = 'yeo-johnson', standardize = True, rename_cols = 'Y'):\n",
    "    \n",
    "    # Save indices\n",
    "    indices = data.index\n",
    "    \n",
    "    # Fit the transformer\n",
    "    pt = PowerTransformer(method = method, standardize = standardize)\n",
    "    \n",
    "    # Transform Data\n",
    "    transformed_data = pd.DataFrame(pt.fit_transform(data[features])).set_index(indices)\n",
    "    \n",
    "    # Name columns\n",
    "    if rename_cols == 'Y':\n",
    "        transformed_data.columns = [f + '_transf' for f in features]\n",
    "    else: \n",
    "        transformed_data.columns = features\n",
    "        \n",
    "    return transformed_data"
   ]
  },
  {
   "cell_type": "code",
   "execution_count": 23,
   "metadata": {},
   "outputs": [],
   "source": [
    "# Transform the data\n",
    "train_X_transf = transform_vars(data = X_train, features = continuous_features, \n",
    "               method = 'yeo-johnson', standardize = True, rename_cols = 'Y')\n",
    "dev_X_transf = transform_vars(data = X_dev, features = continuous_features, \n",
    "               method = 'yeo-johnson', standardize = True, rename_cols = 'Y')"
   ]
  },
  {
   "cell_type": "code",
   "execution_count": 24,
   "metadata": {},
   "outputs": [
    {
     "data": {
      "image/png": "[encoded data removed]",
      "text/plain": [
       "<Figure size 3600x720 with 10 Axes>"
      ]
     },
     "metadata": {
      "needs_background": "dark"
     },
     "output_type": "display_data"
    }
   ],
   "source": [
    "plot_histograms(continuous_features, train_X_transf)"
   ]
  },
  {
   "cell_type": "markdown",
   "metadata": {},
   "source": [
    "Following transformation each continuous feature is certainly not pefectly normally distributed, but each of them have look much more well-distributed, and it is believable that the mean would now fall roughly in the center."
   ]
  },
  {
   "cell_type": "markdown",
   "metadata": {},
   "source": [
    "#### Binarize Each Transformed Variable"
   ]
  },
  {
   "cell_type": "code",
   "execution_count": 25,
   "metadata": {},
   "outputs": [],
   "source": [
    "# Binarize the data\n",
    "train_X_transf = binarize_data(train_X_transf, train_X_transf.columns) # Binarize all continuous features\n",
    "dev_X_transf = binarize_data(dev_X_transf, train_X_transf.columns)\n",
    "\n",
    "# Combine the new, transformed columns with original DF\n",
    "train_X_full = X_train.merge(train_X_transf, how='left', on = X_train.index)\\\n",
    "                      .set_index(X_train.index)\\\n",
    "                      .drop(['key_0'], axis = 1)\n",
    "\n",
    "dev_X_full = X_dev.merge(dev_X_transf, how='left', on = X_dev.index)\\\n",
    "                  .set_index(X_dev.index)\\\n",
    "                  .drop(['key_0'], axis = 1)"
   ]
  },
  {
   "cell_type": "markdown",
   "metadata": {},
   "source": [
    "#### Bernoulli NB with Binarized/transformed continuous features, and binary features\n",
    "\n",
    "Following transformation and binarization of the continuous features, now we can use Bernoulli Naive Bayes to model all of the features."
   ]
  },
  {
   "cell_type": "code",
   "execution_count": 26,
   "metadata": {},
   "outputs": [
    {
     "name": "stdout",
     "output_type": "stream",
     "text": [
      "Bernoulli Naive Bayes (All Features transformed/binarized + Binary features)\n",
      "F1: 0.578 \n",
      "Accuracy: 0.583\n"
     ]
    }
   ],
   "source": [
    "# Transformed/binarized features + binary features\n",
    "model_features = list(train_X_transf.columns) + binary_features\n",
    "\n",
    "# Fit Bernoulli Naive Bayes\n",
    "bNB = BernoulliNB().fit(train_X_full[model_features], np.array(y_train).ravel())    # Fit\n",
    "bNB_pred = bNB.predict(dev_X_full[model_features])                                  # Predict\n",
    "\n",
    "bNB_f1 = metrics.f1_score(y_dev, bNB_pred, average = 'weighted')                    # F1\n",
    "bNB_accur = bNB.score(dev_X_full[model_features], y_dev)                            # Accuracy\n",
    "\n",
    "print('Bernoulli Naive Bayes (All Features transformed/binarized + Binary features)')\n",
    "print(f'F1: {bNB_f1:.3f} \\nAccuracy: {bNB_accur:.3f}')"
   ]
  },
  {
   "cell_type": "markdown",
   "metadata": {},
   "source": [
    "Following transformation and binarization, our model score has decreased compared to the \"well-distributed\" binarized model.\n",
    "\n",
    "Next, will try dropping a few columns that seem to be over-predicting Cover Type 6."
   ]
  },
  {
   "cell_type": "code",
   "execution_count": 27,
   "metadata": {},
   "outputs": [
    {
     "name": "stdout",
     "output_type": "stream",
     "text": [
      "Bernoulli Naive Bayes (All Features transformed/binarized + Binary features)\n",
      "F1: 0.519 \n",
      "Accuracy: 0.540\n"
     ]
    }
   ],
   "source": [
    "# Transformed/binarized features + binary features\n",
    "model_features = list(train_X_transf.columns) + binary_features\n",
    "model_features.remove('Soil_Type22')\n",
    "model_features.remove('Soil_Type23')\n",
    "model_features.remove('Soil_Type29')\n",
    "model_features.remove('Soil_Type32')\n",
    "model_features.remove('Soil_Type38')\n",
    "model_features.remove('Soil_Type39')\n",
    "\n",
    "# Fit Bernoulli Naive Bayes\n",
    "bNB = BernoulliNB().fit(train_X_full[model_features], np.array(y_train).ravel())    # Fit\n",
    "bNB_pred = bNB.predict(dev_X_full[model_features])                                  # Predict\n",
    "\n",
    "bNB_f1 = metrics.f1_score(y_dev, bNB_pred, average = 'weighted')                   # F1\n",
    "bNB_accur = bNB.score(dev_X_full[model_features], y_dev)                            # Accuracy\n",
    "\n",
    "print('Bernoulli Naive Bayes (All Features transformed/binarized + Binary features)')\n",
    "print(f'F1: {bNB_f1:.3f} \\nAccuracy: {bNB_accur:.3f}')"
   ]
  },
  {
   "cell_type": "markdown",
   "metadata": {},
   "source": [
    "Since that decreased our F1 Score from 0.578 to 0.519, let's revert back to our model without the dropped soil types above and try searching for an \"ideal\" alpha value for smoothing. We will use the `GridSearchCV` function to do this."
   ]
  },
  {
   "cell_type": "code",
   "execution_count": 28,
   "metadata": {
    "scrolled": true
   },
   "outputs": [
    {
     "name": "stdout",
     "output_type": "stream",
     "text": [
      "Best alpha =  0.5783728335252256\n"
     ]
    },
    {
     "name": "stderr",
     "output_type": "stream",
     "text": [
      "/Users/brennagiacchino/opt/anaconda3/lib/python3.8/site-packages/sklearn/model_selection/_search.py:847: FutureWarning: The parameter 'iid' is deprecated in 0.22 and will be removed in 0.24.\n",
      "  warnings.warn(\n"
     ]
    }
   ],
   "source": [
    "from sklearn.model_selection import GridSearchCV\n",
    "\n",
    "model_features = list(train_X_transf.columns) + binary_features\n",
    "\n",
    "def GSCV(alphas):\n",
    "    model = GridSearchCV(estimator = BernoulliNB(),\n",
    "                         param_grid = alphas,\n",
    "                         cv = 5,\n",
    "                         scoring = 'accuracy',\n",
    "                         iid = False)\n",
    "    return model.fit(train_X_full[model_features], np.array(y_train).ravel())\n",
    "\n",
    "alphas = {'alpha': [1.0e-10, 0.0001, 0.001, 0.01, 0.1, 0.5, 1.0, 2.0, 10.0]}\n",
    "nb = GSCV(alphas)\n",
    "print(\"Best alpha = \", nb.best_score_)"
   ]
  },
  {
   "cell_type": "markdown",
   "metadata": {},
   "source": [
    "Next, plugging in the best alpha, test the model."
   ]
  },
  {
   "cell_type": "markdown",
   "metadata": {},
   "source": [
    "#### Use Grid Search to choose best parameters for Model 6"
   ]
  },
  {
   "cell_type": "code",
   "execution_count": 29,
   "metadata": {},
   "outputs": [
    {
     "name": "stdout",
     "output_type": "stream",
     "text": [
      "Bernoulli Naive Bayes (All Features transformed/binarized + Binary features)\n",
      "F1: 0.578 \n",
      "Accuracy: 0.583\n"
     ]
    }
   ],
   "source": [
    "# Transformed/binarized features + binary features\n",
    "model_features = list(train_X_transf.columns) + binary_features\n",
    "\n",
    "# Fit Bernoulli Naive Bayes\n",
    "bNB = BernoulliNB(alpha = nb.best_score_).fit(train_X_full[model_features], np.array(y_train).ravel())    # Fit\n",
    "bNB_pred = bNB.predict(dev_X_full[model_features])                                  # Predict\n",
    "\n",
    "bNB_f1 = metrics.f1_score(y_dev, bNB_pred, average = 'weighted')                   # F1\n",
    "bNB_accur = bNB.score(dev_X_full[model_features], y_dev)                            # Accuracy\n",
    "\n",
    "print('Bernoulli Naive Bayes (All Features transformed/binarized + Binary features)')\n",
    "print(f'F1: {bNB_f1:.3f} \\nAccuracy: {bNB_accur:.3f}')"
   ]
  },
  {
   "cell_type": "markdown",
   "metadata": {},
   "source": [
    "# Summary"
   ]
  },
  {
   "cell_type": "code",
   "execution_count": null,
   "metadata": {},
   "outputs": [],
   "source": []
  }
 ],
 "metadata": {
  "kernelspec": {
   "display_name": "Python 3",
   "language": "python",
   "name": "python3"
  },
  "language_info": {
   "codemirror_mode": {
    "name": "ipython",
    "version": 3
   },
   "file_extension": ".py",
   "mimetype": "text/x-python",
   "name": "python",
   "nbconvert_exporter": "python",
   "pygments_lexer": "ipython3",
   "version": "3.8.2"
  }
 },
 "nbformat": 4,
 "nbformat_minor": 4
}
