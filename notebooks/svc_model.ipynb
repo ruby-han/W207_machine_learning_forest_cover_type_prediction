{
 "cells": [
  {
   "cell_type": "code",
<<<<<<< HEAD
<<<<<<< HEAD
<<<<<<< HEAD
   "execution_count": null,
=======
   "execution_count": 1,
>>>>>>> 61819c1 (upload svc_model notebook)
=======
   "execution_count": null,
>>>>>>> a710b56 (upload updated colab notebook)
=======
   "execution_count": null,
>>>>>>> 6fcaeed6268f1fc8c7bc0c60bd9f927357e418de
   "metadata": {},
   "outputs": [],
   "source": [
    "# !pip install kaggle\n",
    "\n",
    "# import kaggle\n",
    "\n",
    "# # download data via api\n",
    "# !kaggle competitions download -c forest-cover-type-prediction"
   ]
  },
  {
   "cell_type": "code",
<<<<<<< HEAD
<<<<<<< HEAD
<<<<<<< HEAD
   "execution_count": 1,
=======
   "execution_count": 2,
>>>>>>> 61819c1 (upload svc_model notebook)
=======
   "execution_count": 1,
>>>>>>> a710b56 (upload updated colab notebook)
=======
   "execution_count": 1,
>>>>>>> 6fcaeed6268f1fc8c7bc0c60bd9f927357e418de
   "metadata": {},
   "outputs": [],
   "source": [
    "import numpy as np\n",
    "import pandas as pd\n",
    "\n",
    "from sklearn.model_selection import GridSearchCV, train_test_split\n",
    "from sklearn.svm import SVC\n",
    "from sklearn.metrics import classification_report\n",
    "from sklearn import metrics\n",
    "from sklearn.preprocessing import StandardScaler, MinMaxScaler\n",
    "import time\n",
    "\n",
    "# set randomizer seed so results are the same each time\n",
    "np.random.seed(0)\n",
    "\n",
    "pd.set_option(\n",
    "    #'max_rows', None, \n",
    "    'max_columns', None,\n",
    "    'max_colwidth', None\n",
    ")"
   ]
  },
  {
   "cell_type": "markdown",
   "metadata": {},
   "source": [
    "## Data Load"
   ]
  },
  {
   "cell_type": "code",
<<<<<<< HEAD
<<<<<<< HEAD
<<<<<<< HEAD
   "execution_count": 2,
=======
   "execution_count": 3,
>>>>>>> 61819c1 (upload svc_model notebook)
=======
   "execution_count": 2,
>>>>>>> a710b56 (upload updated colab notebook)
=======
   "execution_count": 2,
>>>>>>> 6fcaeed6268f1fc8c7bc0c60bd9f927357e418de
   "metadata": {},
   "outputs": [],
   "source": [
    "# load train and test csv files from Kaggle\n",
    "train_kaggle = pd.read_csv('../data/raw/forest-cover-type-prediction/train.csv')\n",
    "test_kaggle = pd.read_csv('../data/raw/forest-cover-type-prediction/test.csv')"
   ]
  },
  {
   "cell_type": "markdown",
   "metadata": {},
   "source": [
    "### Numpy array format"
   ]
  },
  {
   "cell_type": "code",
<<<<<<< HEAD
<<<<<<< HEAD
<<<<<<< HEAD
   "execution_count": 3,
=======
   "execution_count": 4,
>>>>>>> 61819c1 (upload svc_model notebook)
=======
   "execution_count": 3,
>>>>>>> a710b56 (upload updated colab notebook)
=======
   "execution_count": 3,
>>>>>>> 6fcaeed6268f1fc8c7bc0c60bd9f927357e418de
   "metadata": {},
   "outputs": [
    {
     "name": "stdout",
     "output_type": "stream",
     "text": [
      "data shape:  (15120, 55)\n",
      "label shape: (15120, 1)\n"
     ]
    }
   ],
   "source": [
    "# convert dataframe to numpy array\n",
    "X = np.array(train_kaggle.set_index('Id'))\n",
    "Y = np.array(train_kaggle[['Id', 'Cover_Type']].set_index('Id'))\n",
    "\n",
    "# random sampling of data\n",
    "# note that each time this cell is run, the data is reshuffled resulting in different order\n",
    "shuffle = np.random.permutation(np.arange(X.shape[0]))\n",
    "X, Y = X[shuffle], Y[shuffle]\n",
    "\n",
    "print('data shape: ', X.shape)\n",
    "print('label shape:', Y.shape)\n",
    "\n",
    "# train_pct = 0.8\n",
    "# split = int(X.shape[0]*train_pct)\n",
    "\n",
    "# train_data, train_labels = X[:split, :], Y[:split, ]\n",
    "# dev_data, dev_labels = X[split:, :], Y[split:, ]\n",
    "\n",
<<<<<<< HEAD
<<<<<<< HEAD
<<<<<<< HEAD
    "X_train, X_dev, y_train, y_dev = train_test_split(X, Y, test_size = 0.2, random_state=0)"
=======
    "X_train, X_dev, y_train, y_dev = train_test_split(X, Y, test_size = 0.2)"
>>>>>>> 61819c1 (upload svc_model notebook)
=======
    "X_train, X_dev, y_train, y_dev = train_test_split(X, Y, test_size = 0.2, random_state=0)"
>>>>>>> a710b56 (upload updated colab notebook)
=======
    "X_train, X_dev, y_train, y_dev = train_test_split(X, Y, test_size = 0.2, random_state=0)"
>>>>>>> 6fcaeed6268f1fc8c7bc0c60bd9f927357e418de
   ]
  },
  {
   "cell_type": "markdown",
   "metadata": {},
   "source": [
    "### SVC (numpy)"
   ]
  },
  {
   "cell_type": "code",
<<<<<<< HEAD
<<<<<<< HEAD
<<<<<<< HEAD
   "execution_count": 4,
=======
   "execution_count": 5,
>>>>>>> 61819c1 (upload svc_model notebook)
=======
   "execution_count": 4,
>>>>>>> a710b56 (upload updated colab notebook)
=======
   "execution_count": 4,
>>>>>>> 6fcaeed6268f1fc8c7bc0c60bd9f927357e418de
   "metadata": {},
   "outputs": [],
   "source": [
    "train_data_minmax = MinMaxScaler().fit_transform(X_train[:, :10])\n",
    "dev_data_minmax = MinMaxScaler().fit_transform(X_dev[:, :10])\n",
    "\n",
    "train_data_std = StandardScaler().fit_transform(X_train[:, :10])\n",
    "dev_data_std = StandardScaler().fit_transform(X_dev[:, :10])"
   ]
  },
  {
   "cell_type": "code",
<<<<<<< HEAD
<<<<<<< HEAD
<<<<<<< HEAD
=======
>>>>>>> 6fcaeed6268f1fc8c7bc0c60bd9f927357e418de
   "execution_count": null,
   "metadata": {},
   "outputs": [],
   "source": [
    "def best_svc(params):\n",
    "    gscv = GridSearchCV(SVC(), param_grid=params, scoring='accuracy')\n",
    "    gscv.fit(train_data_std, y_train.ravel())\n",
<<<<<<< HEAD
=======
   "execution_count": 6,
=======
   "execution_count": null,
>>>>>>> a710b56 (upload updated colab notebook)
   "metadata": {},
   "outputs": [],
   "source": [
    "def best_svc(params):\n",
    "    gscv = GridSearchCV(SVC(), param_grid=params, scoring='accuracy')\n",
<<<<<<< HEAD
    "    gscv.fit(train_data_minmax, y_train.ravel())\n",
>>>>>>> 61819c1 (upload svc_model notebook)
=======
    "    gscv.fit(train_data_std, y_train.ravel())\n",
>>>>>>> a710b56 (upload updated colab notebook)
=======
>>>>>>> 6fcaeed6268f1fc8c7bc0c60bd9f927357e418de
    "    \n",
    "    df = pd.DataFrame(gscv.cv_results_)\n",
    "    print(df.loc[:,['params', 'mean_test_score', 'rank_test_score']])\n",
    "    \n",
    "    return gscv\n",
    "\n",
    "params = {'C': [1, 10, 100, 1000],\n",
    "          'gamma': [1, 0.5, 0.1, 0.01],\n",
    "          'kernel': ['rbf']}\n",
    "\n",
    "best_svm = best_svc(params)\n",
    "\n",
    "print(f'\\nBest SVC parameters: {best_svm.best_params_}')"
   ]
  },
  {
   "cell_type": "code",
<<<<<<< HEAD
<<<<<<< HEAD
<<<<<<< HEAD
   "execution_count": 5,
=======
   "execution_count": 7,
>>>>>>> 61819c1 (upload svc_model notebook)
=======
   "execution_count": 5,
>>>>>>> a710b56 (upload updated colab notebook)
=======
   "execution_count": 5,
>>>>>>> 6fcaeed6268f1fc8c7bc0c60bd9f927357e418de
   "metadata": {},
   "outputs": [
    {
     "name": "stdout",
     "output_type": "stream",
     "text": [
<<<<<<< HEAD
<<<<<<< HEAD
<<<<<<< HEAD
=======
>>>>>>> 6fcaeed6268f1fc8c7bc0c60bd9f927357e418de
      "Best f1-score for SVC: 0.8088\n",
      "\n",
      "              precision    recall  f1-score   support\n",
      "\n",
      "           1       0.71      0.69      0.70       416\n",
      "           2       0.68      0.61      0.64       421\n",
      "           3       0.78      0.71      0.75       421\n",
      "           4       0.93      0.97      0.95       431\n",
      "           5       0.87      0.91      0.89       464\n",
      "           6       0.74      0.83      0.78       410\n",
      "           7       0.92      0.94      0.93       461\n",
      "\n",
      "    accuracy                           0.81      3024\n",
      "   macro avg       0.81      0.81      0.81      3024\n",
      "weighted avg       0.81      0.81      0.81      3024\n",
<<<<<<< HEAD
=======
      "Best f1-score for SVC: 0.7814\n",
=======
      "Best f1-score for SVC: 0.8088\n",
>>>>>>> a710b56 (upload updated colab notebook)
      "\n",
      "              precision    recall  f1-score   support\n",
      "\n",
      "           1       0.71      0.69      0.70       416\n",
      "           2       0.68      0.61      0.64       421\n",
      "           3       0.78      0.71      0.75       421\n",
      "           4       0.93      0.97      0.95       431\n",
      "           5       0.87      0.91      0.89       464\n",
      "           6       0.74      0.83      0.78       410\n",
      "           7       0.92      0.94      0.93       461\n",
      "\n",
<<<<<<< HEAD
      "    accuracy                           0.78      3024\n",
      "   macro avg       0.78      0.78      0.78      3024\n",
      "weighted avg       0.78      0.78      0.78      3024\n",
>>>>>>> 61819c1 (upload svc_model notebook)
=======
      "    accuracy                           0.81      3024\n",
      "   macro avg       0.81      0.81      0.81      3024\n",
      "weighted avg       0.81      0.81      0.81      3024\n",
>>>>>>> a710b56 (upload updated colab notebook)
=======
>>>>>>> 6fcaeed6268f1fc8c7bc0c60bd9f927357e418de
      "\n"
     ]
    }
   ],
   "source": [
    "# svm = SVC(\n",
    "#     C=best_svm.best_params_['C']\n",
    "#     ,gamma=best_svm.best_params_['gamma']\n",
    "#     ,kernel=best_svm.best_params_['kernel']\n",
    "#          )\n",
    "svm = SVC(\n",
<<<<<<< HEAD
<<<<<<< HEAD
<<<<<<< HEAD
=======
>>>>>>> 6fcaeed6268f1fc8c7bc0c60bd9f927357e418de
    "    C=10\n",
    "    ,gamma=0.5\n",
    "    ,kernel='rbf'\n",
    "    ,random_state=0\n",
<<<<<<< HEAD
=======
    "    C=1000\n",
    "    ,gamma=1\n",
    "    ,kernel='rbf'\n",
>>>>>>> 61819c1 (upload svc_model notebook)
=======
    "    C=10\n",
    "    ,gamma=0.5\n",
    "    ,kernel='rbf'\n",
    "    ,random_state=0\n",
>>>>>>> a710b56 (upload updated colab notebook)
=======
>>>>>>> 6fcaeed6268f1fc8c7bc0c60bd9f927357e418de
    "         )\n",
    "\n",
    "# svm.fit(train_data_minmax, y_train.ravel())\n",
    "# dev_prediction = svm.predict(dev_data_minmax)\n",
    "\n",
    "svm.fit(train_data_std, y_train.ravel())\n",
    "dev_prediction = svm.predict(dev_data_std)\n",
    "\n",
<<<<<<< HEAD
<<<<<<< HEAD
<<<<<<< HEAD
    "print(f'Best f1-score for SVC: {metrics.f1_score(y_dev, dev_prediction, average=\"weighted\"):.4f}\\n')\n",
=======
    "print(f'Best f1-score for SVC: {metrics.accuracy_score(y_dev, dev_prediction):.4f}\\n')\n",
>>>>>>> 61819c1 (upload svc_model notebook)
=======
    "print(f'Best f1-score for SVC: {metrics.f1_score(y_dev, dev_prediction, average=\"weighted\"):.4f}\\n')\n",
>>>>>>> a710b56 (upload updated colab notebook)
=======
    "print(f'Best f1-score for SVC: {metrics.f1_score(y_dev, dev_prediction, average=\"weighted\"):.4f}\\n')\n",
>>>>>>> 6fcaeed6268f1fc8c7bc0c60bd9f927357e418de
    "print(classification_report(y_dev, dev_prediction))"
   ]
  },
  {
   "cell_type": "markdown",
   "metadata": {},
   "source": [
    "### Dataframe format"
   ]
  },
  {
   "cell_type": "code",
<<<<<<< HEAD
<<<<<<< HEAD
<<<<<<< HEAD
=======
>>>>>>> 6fcaeed6268f1fc8c7bc0c60bd9f927357e418de
   "execution_count": 9,
   "metadata": {},
   "outputs": [],
   "source": [
    "train_kaggle2 = train_kaggle.sample(frac = 1)\n",
    "# convert dataframe to numpy array\n",
    "X2 = train_kaggle2.set_index('Id')\n",
    "Y2 = train_kaggle2[['Id', 'Cover_Type']].set_index('Id')\n",
    "\n",
    "\n",
    "# train_pct = .8\n",
    "# split = int(train_kaggle.shape[0] * train_pct)\n",
<<<<<<< HEAD
=======
   "execution_count": 8,
=======
   "execution_count": 9,
>>>>>>> a710b56 (upload updated colab notebook)
   "metadata": {},
   "outputs": [],
   "source": [
    "train_kaggle2 = train_kaggle.sample(frac = 1)\n",
    "# convert dataframe to numpy array\n",
    "X2 = train_kaggle2.set_index('Id')\n",
    "Y2 = train_kaggle2[['Id', 'Cover_Type']].set_index('Id')\n",
    "\n",
    "\n",
<<<<<<< HEAD
    "train_pct = .8\n",
    "split = int(train_kaggle.shape[0] * train_pct)\n",
>>>>>>> 61819c1 (upload svc_model notebook)
=======
    "# train_pct = .8\n",
    "# split = int(train_kaggle.shape[0] * train_pct)\n",
>>>>>>> a710b56 (upload updated colab notebook)
=======
>>>>>>> 6fcaeed6268f1fc8c7bc0c60bd9f927357e418de
    "\n",
    "# train_data_df = train_kaggle.iloc[:split, :].set_index('Id')\n",
    "# train_labels_df = train_kaggle.iloc[:split, ].loc[:, ['Id', 'Cover_Type']].set_index('Id')\n",
    "# dev_data_df = train_kaggle.iloc[split:, :].loc[:,].set_index('Id')\n",
    "# dev_labels_df = train_kaggle.iloc[split:, ].loc[:, ['Id', 'Cover_Type']].set_index('Id')\n",
    "\n",
    "train_data_df, dev_data_df, train_labels_df, dev_labels_df = \\\n",
<<<<<<< HEAD
<<<<<<< HEAD
<<<<<<< HEAD
    "train_test_split(X2, Y2, test_size = 0.2, random_state=0)"
=======
    "train_test_split(X, Y, test_size = 0.2)"
>>>>>>> 61819c1 (upload svc_model notebook)
=======
    "train_test_split(X2, Y2, test_size = 0.2, random_state=0)"
>>>>>>> a710b56 (upload updated colab notebook)
=======
    "train_test_split(X2, Y2, test_size = 0.2, random_state=0)"
>>>>>>> 6fcaeed6268f1fc8c7bc0c60bd9f927357e418de
   ]
  },
  {
   "cell_type": "markdown",
   "metadata": {},
   "source": [
    "### SVC (df)"
   ]
  },
  {
   "cell_type": "code",
<<<<<<< HEAD
<<<<<<< HEAD
<<<<<<< HEAD
   "execution_count": 10,
=======
   "execution_count": 9,
>>>>>>> 61819c1 (upload svc_model notebook)
=======
   "execution_count": 10,
>>>>>>> a710b56 (upload updated colab notebook)
=======
   "execution_count": 10,
>>>>>>> 6fcaeed6268f1fc8c7bc0c60bd9f927357e418de
   "metadata": {},
   "outputs": [],
   "source": [
    "# scale to [0, 1] range\n",
    "df_train_data_minmax = MinMaxScaler().fit_transform(train_data_df.iloc[:, :10])\n",
    "df_dev_data_minmax = MinMaxScaler().fit_transform(dev_data_df.iloc[:, :10])\n",
    "\n",
    "df_train_data_std = StandardScaler().fit_transform(train_data_df.iloc[:, :10])\n",
    "df_dev_data_std = StandardScaler().fit_transform(dev_data_df.iloc[:, :10])"
   ]
  },
  {
   "cell_type": "code",
<<<<<<< HEAD
<<<<<<< HEAD
<<<<<<< HEAD
   "execution_count": null,
   "metadata": {},
   "outputs": [],
=======
   "execution_count": 10,
   "metadata": {},
   "outputs": [
    {
     "name": "stdout",
     "output_type": "stream",
     "text": [
      "                                         params  mean_test_score  \\\n",
      "0         {'C': 1, 'gamma': 1, 'kernel': 'rbf'}         0.774967   \n",
      "1       {'C': 1, 'gamma': 0.5, 'kernel': 'rbf'}         0.770916   \n",
      "2       {'C': 1, 'gamma': 0.1, 'kernel': 'rbf'}         0.731233   \n",
      "3      {'C': 1, 'gamma': 0.01, 'kernel': 'rbf'}         0.674355   \n",
      "4        {'C': 10, 'gamma': 1, 'kernel': 'rbf'}         0.778025   \n",
      "5      {'C': 10, 'gamma': 0.5, 'kernel': 'rbf'}         0.787946   \n",
      "6      {'C': 10, 'gamma': 0.1, 'kernel': 'rbf'}         0.763393   \n",
      "7     {'C': 10, 'gamma': 0.01, 'kernel': 'rbf'}         0.707506   \n",
      "8       {'C': 100, 'gamma': 1, 'kernel': 'rbf'}         0.763640   \n",
      "9     {'C': 100, 'gamma': 0.5, 'kernel': 'rbf'}         0.766782   \n",
      "10    {'C': 100, 'gamma': 0.1, 'kernel': 'rbf'}         0.783317   \n",
      "11   {'C': 100, 'gamma': 0.01, 'kernel': 'rbf'}         0.728423   \n",
      "12     {'C': 1000, 'gamma': 1, 'kernel': 'rbf'}         0.762896   \n",
      "13   {'C': 1000, 'gamma': 0.5, 'kernel': 'rbf'}         0.753059   \n",
      "14   {'C': 1000, 'gamma': 0.1, 'kernel': 'rbf'}         0.778935   \n",
      "15  {'C': 1000, 'gamma': 0.01, 'kernel': 'rbf'}         0.751571   \n",
      "\n",
      "    rank_test_score  \n",
      "0                 5  \n",
      "1                 6  \n",
      "2                13  \n",
      "3                16  \n",
      "4                 4  \n",
      "5                 1  \n",
      "6                 9  \n",
      "7                15  \n",
      "8                 8  \n",
      "9                 7  \n",
      "10                2  \n",
      "11               14  \n",
      "12               10  \n",
      "13               11  \n",
      "14                3  \n",
      "15               12  \n",
      "\n",
      "Best SVC parameters: {'C': 10, 'gamma': 0.5, 'kernel': 'rbf'}\n"
     ]
    }
   ],
>>>>>>> 61819c1 (upload svc_model notebook)
=======
   "execution_count": null,
   "metadata": {},
   "outputs": [],
>>>>>>> a710b56 (upload updated colab notebook)
=======
   "execution_count": null,
   "metadata": {},
   "outputs": [],
>>>>>>> 6fcaeed6268f1fc8c7bc0c60bd9f927357e418de
   "source": [
    "def best_svc(params):\n",
    "    gscv = GridSearchCV(SVC(), param_grid=params, scoring='accuracy')\n",
    "#     gscv.fit(df_train_data_minmax, train_labels_df.values.ravel())\n",
    "    gscv.fit(df_train_data_std, train_labels_df.values.ravel())\n",
    "    \n",
    "    df = pd.DataFrame(gscv.cv_results_)\n",
    "    print(df.loc[:,['params', 'mean_test_score', 'rank_test_score']])\n",
    "    \n",
    "    return gscv\n",
    "\n",
    "params = {'C': [1, 10, 100, 1000],\n",
    "          'gamma': [1, 0.5, 0.1, 0.01],\n",
    "          'kernel': ['rbf']}\n",
    "\n",
    "best_svm = best_svc(params)\n",
    "\n",
    "print(f'\\nBest SVC parameters: {best_svm.best_params_}')"
   ]
  },
  {
   "cell_type": "code",
<<<<<<< HEAD
<<<<<<< HEAD
<<<<<<< HEAD
   "execution_count": 11,
=======
   "execution_count": 12,
>>>>>>> 61819c1 (upload svc_model notebook)
=======
   "execution_count": 11,
>>>>>>> a710b56 (upload updated colab notebook)
=======
   "execution_count": 11,
>>>>>>> 6fcaeed6268f1fc8c7bc0c60bd9f927357e418de
   "metadata": {},
   "outputs": [
    {
     "name": "stdout",
     "output_type": "stream",
     "text": [
<<<<<<< HEAD
<<<<<<< HEAD
<<<<<<< HEAD
      "Best f1-score for SVC: 0.7993\n",
      "\n",
      "              precision    recall  f1-score   support\n",
      "\n",
      "           1       0.67      0.71      0.69       397\n",
      "           2       0.70      0.59      0.64       470\n",
      "           3       0.77      0.72      0.75       446\n",
      "           4       0.91      0.95      0.93       456\n",
      "           5       0.86      0.93      0.89       416\n",
      "           6       0.77      0.78      0.77       405\n",
      "           7       0.90      0.95      0.93       434\n",
      "\n",
      "    accuracy                           0.80      3024\n",
      "   macro avg       0.80      0.80      0.80      3024\n",
=======
      "Best f1-score for SVC: 0.8046\n",
=======
      "Best f1-score for SVC: 0.7993\n",
>>>>>>> a710b56 (upload updated colab notebook)
=======
      "Best f1-score for SVC: 0.7993\n",
>>>>>>> 6fcaeed6268f1fc8c7bc0c60bd9f927357e418de
      "\n",
      "              precision    recall  f1-score   support\n",
      "\n",
      "           1       0.67      0.71      0.69       397\n",
      "           2       0.70      0.59      0.64       470\n",
      "           3       0.77      0.72      0.75       446\n",
      "           4       0.91      0.95      0.93       456\n",
      "           5       0.86      0.93      0.89       416\n",
      "           6       0.77      0.78      0.77       405\n",
      "           7       0.90      0.95      0.93       434\n",
      "\n",
      "    accuracy                           0.80      3024\n",
<<<<<<< HEAD
<<<<<<< HEAD
      "   macro avg       0.80      0.81      0.80      3024\n",
>>>>>>> 61819c1 (upload svc_model notebook)
=======
      "   macro avg       0.80      0.80      0.80      3024\n",
>>>>>>> a710b56 (upload updated colab notebook)
=======
      "   macro avg       0.80      0.80      0.80      3024\n",
>>>>>>> 6fcaeed6268f1fc8c7bc0c60bd9f927357e418de
      "weighted avg       0.80      0.80      0.80      3024\n",
      "\n"
     ]
    }
   ],
   "source": [
    "# svm = SVC(\n",
    "#     C=best_svm.best_params_['C']\n",
    "#     ,gamma=best_svm.best_params_['gamma']\n",
    "#     ,kernel=best_svm.best_params_['kernel']\n",
    "#          )\n",
    "svm = SVC(\n",
    "    C=10\n",
    "    ,gamma=0.5\n",
    "    ,kernel='rbf'\n",
<<<<<<< HEAD
<<<<<<< HEAD
<<<<<<< HEAD
    "    ,random_state=0\n",
    ")\n",
=======
    "         )\n",
>>>>>>> 61819c1 (upload svc_model notebook)
=======
    "    ,random_state=0\n",
    ")\n",
>>>>>>> a710b56 (upload updated colab notebook)
=======
    "    ,random_state=0\n",
    ")\n",
>>>>>>> 6fcaeed6268f1fc8c7bc0c60bd9f927357e418de
    "\n",
    "# svm.fit(df_train_data_minmax, train_labels_df.values.ravel())\n",
    "# dev_prediction = svm.predict(df_dev_data_minmax)\n",
    "\n",
    "svm.fit(df_train_data_std, train_labels_df.values.ravel())\n",
    "dev_prediction = svm.predict(df_dev_data_std)\n",
    "\n",
<<<<<<< HEAD
<<<<<<< HEAD
<<<<<<< HEAD
    "print(f'Best f1-score for SVC: {metrics.f1_score(dev_labels_df, dev_prediction, average=\"weighted\"):.4f}\\n')\n",
=======
    "print(f'Best f1-score for SVC: {metrics.accuracy_score(dev_labels_df, dev_prediction):.4f}\\n')\n",
>>>>>>> 61819c1 (upload svc_model notebook)
=======
    "print(f'Best f1-score for SVC: {metrics.f1_score(dev_labels_df, dev_prediction, average=\"weighted\"):.4f}\\n')\n",
>>>>>>> a710b56 (upload updated colab notebook)
=======
    "print(f'Best f1-score for SVC: {metrics.f1_score(dev_labels_df, dev_prediction, average=\"weighted\"):.4f}\\n')\n",
>>>>>>> 6fcaeed6268f1fc8c7bc0c60bd9f927357e418de
    "print(classification_report(dev_labels_df, dev_prediction))"
   ]
  },
  {
   "cell_type": "code",
   "execution_count": null,
   "metadata": {},
   "outputs": [],
   "source": []
  }
 ],
 "metadata": {
  "kernelspec": {
   "display_name": "Python 3",
   "language": "python",
   "name": "python3"
  },
  "language_info": {
   "codemirror_mode": {
    "name": "ipython",
    "version": 3
   },
   "file_extension": ".py",
   "mimetype": "text/x-python",
   "name": "python",
   "nbconvert_exporter": "python",
   "pygments_lexer": "ipython3",
   "version": "3.8.5"
  }
 },
 "nbformat": 4,
 "nbformat_minor": 4
}
